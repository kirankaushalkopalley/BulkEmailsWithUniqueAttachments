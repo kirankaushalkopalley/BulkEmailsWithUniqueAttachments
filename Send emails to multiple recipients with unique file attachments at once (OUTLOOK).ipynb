{
 "cells": [
  {
   "cell_type": "code",
   "execution_count": 4,
   "metadata": {},
   "outputs": [
    {
     "data": {
      "text/html": [
       "<div>\n",
       "<style scoped>\n",
       "    .dataframe tbody tr th:only-of-type {\n",
       "        vertical-align: middle;\n",
       "    }\n",
       "\n",
       "    .dataframe tbody tr th {\n",
       "        vertical-align: top;\n",
       "    }\n",
       "\n",
       "    .dataframe thead th {\n",
       "        text-align: right;\n",
       "    }\n",
       "</style>\n",
       "<table border=\"1\" class=\"dataframe\">\n",
       "  <thead>\n",
       "    <tr style=\"text-align: right;\">\n",
       "      <th></th>\n",
       "      <th>Username</th>\n",
       "      <th>Email</th>\n",
       "      <th>Filename</th>\n",
       "    </tr>\n",
       "  </thead>\n",
       "  <tbody>\n",
       "    <tr>\n",
       "      <td>0</td>\n",
       "      <td>xyz</td>\n",
       "      <td>kirankaushal80@gmail.com</td>\n",
       "      <td>nature.jpg</td>\n",
       "    </tr>\n",
       "  </tbody>\n",
       "</table>\n",
       "</div>"
      ],
      "text/plain": [
       "  Username                     Email    Filename\n",
       "0      xyz  kirankaushal80@gmail.com  nature.jpg"
      ]
     },
     "execution_count": 4,
     "metadata": {},
     "output_type": "execute_result"
    }
   ],
   "source": [
    "import pandas as pd\n",
    "import getpass\n",
    "import smtplib\n",
    "from email.mime.multipart import MIMEMultipart\n",
    "from email.mime.base import MIMEBase\n",
    "from email.mime.text import MIMEText\n",
    "from email import encoders\n",
    "\n",
    "df = pd.read_excel('Users.xlsx')\n",
    "df"
   ]
  },
  {
   "cell_type": "code",
   "execution_count": 5,
   "metadata": {},
   "outputs": [
    {
     "name": "stdout",
     "output_type": "stream",
     "text": [
      "Enter your OUTLOOK email:kkaushal95@outlook.com\n",
      "You entered kkaushal95@outlook.com\n",
      "Enter your password:\n",
      "········\n",
      "['kirankaushal80@gmail.com']\n",
      "['nature.jpg']\n"
     ]
    }
   ],
   "source": [
    "fromAddr = input('Enter your OUTLOOK email:')\n",
    "print('You entered '+fromAddr)\n",
    "print('Enter your password:')\n",
    "password = getpass.getpass()\n",
    "\n",
    "toAddr = df['Email'].tolist()\n",
    "print(toAddr)\n",
    "filename = df['Filename'].tolist()\n",
    "print(filename)"
   ]
  },
  {
   "cell_type": "code",
   "execution_count": 6,
   "metadata": {},
   "outputs": [
    {
     "name": "stdout",
     "output_type": "stream",
     "text": [
      "Started sending Emails to all the users in the list\n",
      "1\tkirankaushal80@gmail.com\tnature.jpg\n",
      "Emails sent to all the users in the list successfully\n"
     ]
    }
   ],
   "source": [
    "print('Started sending Emails to all the users in the list')\n",
    "for index, row in df.iterrows():\n",
    "    print(str(index+1)+'\\t'+row[\"Email\"]+'\\t'+row[\"Filename\"])\n",
    "    msg = MIMEMultipart()\n",
    "    msg['From'] = fromAddr\n",
    "    msg['Subject'] = 'Please find the attachment'\n",
    "    body = 'Hi! '+row['Username']+'''\n",
    "    Check the attached file.\n",
    "    '''\n",
    "    msg.attach(MIMEText(body, 'plain'))\n",
    "    filename = row[\"Filename\"]\n",
    "    toAddr = row[\"Email\"]\n",
    "    attachment = open(row[\"Filename\"], \"rb\")\n",
    "    part = MIMEBase('application', 'octet-stream')\n",
    "    part.set_payload((attachment).read())\n",
    "    encoders.encode_base64(part)\n",
    "    part.add_header('Content-Disposition',\"attachment; filename= %s\" % filename)\n",
    "    s = smtplib.SMTP('smtp-mail.outlook.com', 587)\n",
    "    s.ehlo()\n",
    "    s.starttls()\n",
    "    s.login(fromAddr, password)\n",
    "    msg.attach(part)\n",
    "    text = msg.as_string()\n",
    "    s.sendmail(fromAddr, toAddr, text)\n",
    "    s.quit()\n",
    "\n",
    "print('Emails sent to all the users in the list successfully')"
   ]
  },
  {
   "cell_type": "code",
   "execution_count": null,
   "metadata": {},
   "outputs": [],
   "source": []
  }
 ],
 "metadata": {
  "kernelspec": {
   "display_name": "Python 3",
   "language": "python",
   "name": "python3"
  },
  "language_info": {
   "codemirror_mode": {
    "name": "ipython",
    "version": 3
   },
   "file_extension": ".py",
   "mimetype": "text/x-python",
   "name": "python",
   "nbconvert_exporter": "python",
   "pygments_lexer": "ipython3",
   "version": "3.7.4"
  }
 },
 "nbformat": 4,
 "nbformat_minor": 2
}
